{
 "cells": [
  {
   "cell_type": "code",
   "execution_count": 1,
   "id": "a4b8f081",
   "metadata": {
    "_cell_guid": "b1076dfc-b9ad-4769-8c92-a6c4dae69d19",
    "_uuid": "8f2839f25d086af736a60e9eeb907d3b93b6e0e5",
    "execution": {
     "iopub.execute_input": "2023-10-28T09:59:31.154608Z",
     "iopub.status.busy": "2023-10-28T09:59:31.153727Z",
     "iopub.status.idle": "2023-10-28T09:59:31.535715Z",
     "shell.execute_reply": "2023-10-28T09:59:31.534549Z"
    },
    "papermill": {
     "duration": 0.398981,
     "end_time": "2023-10-28T09:59:31.538152",
     "exception": false,
     "start_time": "2023-10-28T09:59:31.139171",
     "status": "completed"
    },
    "tags": []
   },
   "outputs": [
    {
     "name": "stdout",
     "output_type": "stream",
     "text": [
      "/kaggle/input/car-price-predictionused-cars/car data.csv\n"
     ]
    }
   ],
   "source": [
    "import numpy as np # linear algebra\n",
    "import pandas as pd # data processing, CSV file I/O (e.g. pd.read_csv)\n",
    "\n",
    "# Input data files are available in the read-only \"../input/\" directory\n",
    "# For example, running this (by clicking run or pressing Shift+Enter) will list all files under the input directory\n",
    "\n",
    "import os\n",
    "for dirname, _, filenames in os.walk('/kaggle/input'):\n",
    "    for filename in filenames:\n",
    "        print(os.path.join(dirname, filename))"
   ]
  },
  {
   "cell_type": "code",
   "execution_count": 2,
   "id": "58e8121d",
   "metadata": {
    "execution": {
     "iopub.execute_input": "2023-10-28T09:59:31.557671Z",
     "iopub.status.busy": "2023-10-28T09:59:31.556781Z",
     "iopub.status.idle": "2023-10-28T09:59:33.295127Z",
     "shell.execute_reply": "2023-10-28T09:59:33.294242Z"
    },
    "papermill": {
     "duration": 1.75094,
     "end_time": "2023-10-28T09:59:33.298143",
     "exception": false,
     "start_time": "2023-10-28T09:59:31.547203",
     "status": "completed"
    },
    "tags": []
   },
   "outputs": [],
   "source": [
    "import pandas as pd\n",
    "import matplotlib.pyplot as plt\n",
    "import seaborn as sns\n",
    "from sklearn.model_selection import train_test_split\n",
    "from sklearn.linear_model import LinearRegression\n",
    "from sklearn.linear_model import Lasso\n",
    "from sklearn import metrics"
   ]
  },
  {
   "cell_type": "code",
   "execution_count": 3,
   "id": "e1001ff9",
   "metadata": {
    "execution": {
     "iopub.execute_input": "2023-10-28T09:59:33.321733Z",
     "iopub.status.busy": "2023-10-28T09:59:33.321028Z",
     "iopub.status.idle": "2023-10-28T09:59:33.343911Z",
     "shell.execute_reply": "2023-10-28T09:59:33.342814Z"
    },
    "papermill": {
     "duration": 0.035631,
     "end_time": "2023-10-28T09:59:33.346440",
     "exception": false,
     "start_time": "2023-10-28T09:59:33.310809",
     "status": "completed"
    },
    "tags": []
   },
   "outputs": [],
   "source": [
    "car_dataset = pd.read_csv('/kaggle/input/car-price-predictionused-cars/car data.csv')"
   ]
  },
  {
   "cell_type": "code",
   "execution_count": 4,
   "id": "ad509f9f",
   "metadata": {
    "execution": {
     "iopub.execute_input": "2023-10-28T09:59:33.366337Z",
     "iopub.status.busy": "2023-10-28T09:59:33.365942Z",
     "iopub.status.idle": "2023-10-28T09:59:33.392172Z",
     "shell.execute_reply": "2023-10-28T09:59:33.391159Z"
    },
    "papermill": {
     "duration": 0.03879,
     "end_time": "2023-10-28T09:59:33.394561",
     "exception": false,
     "start_time": "2023-10-28T09:59:33.355771",
     "status": "completed"
    },
    "tags": []
   },
   "outputs": [
    {
     "data": {
      "text/html": [
       "<div>\n",
       "<style scoped>\n",
       "    .dataframe tbody tr th:only-of-type {\n",
       "        vertical-align: middle;\n",
       "    }\n",
       "\n",
       "    .dataframe tbody tr th {\n",
       "        vertical-align: top;\n",
       "    }\n",
       "\n",
       "    .dataframe thead th {\n",
       "        text-align: right;\n",
       "    }\n",
       "</style>\n",
       "<table border=\"1\" class=\"dataframe\">\n",
       "  <thead>\n",
       "    <tr style=\"text-align: right;\">\n",
       "      <th></th>\n",
       "      <th>Car_Name</th>\n",
       "      <th>Year</th>\n",
       "      <th>Selling_Price</th>\n",
       "      <th>Present_Price</th>\n",
       "      <th>Driven_kms</th>\n",
       "      <th>Fuel_Type</th>\n",
       "      <th>Selling_type</th>\n",
       "      <th>Transmission</th>\n",
       "      <th>Owner</th>\n",
       "    </tr>\n",
       "  </thead>\n",
       "  <tbody>\n",
       "    <tr>\n",
       "      <th>0</th>\n",
       "      <td>ritz</td>\n",
       "      <td>2014</td>\n",
       "      <td>3.35</td>\n",
       "      <td>5.59</td>\n",
       "      <td>27000</td>\n",
       "      <td>Petrol</td>\n",
       "      <td>Dealer</td>\n",
       "      <td>Manual</td>\n",
       "      <td>0</td>\n",
       "    </tr>\n",
       "    <tr>\n",
       "      <th>1</th>\n",
       "      <td>sx4</td>\n",
       "      <td>2013</td>\n",
       "      <td>4.75</td>\n",
       "      <td>9.54</td>\n",
       "      <td>43000</td>\n",
       "      <td>Diesel</td>\n",
       "      <td>Dealer</td>\n",
       "      <td>Manual</td>\n",
       "      <td>0</td>\n",
       "    </tr>\n",
       "    <tr>\n",
       "      <th>2</th>\n",
       "      <td>ciaz</td>\n",
       "      <td>2017</td>\n",
       "      <td>7.25</td>\n",
       "      <td>9.85</td>\n",
       "      <td>6900</td>\n",
       "      <td>Petrol</td>\n",
       "      <td>Dealer</td>\n",
       "      <td>Manual</td>\n",
       "      <td>0</td>\n",
       "    </tr>\n",
       "    <tr>\n",
       "      <th>3</th>\n",
       "      <td>wagon r</td>\n",
       "      <td>2011</td>\n",
       "      <td>2.85</td>\n",
       "      <td>4.15</td>\n",
       "      <td>5200</td>\n",
       "      <td>Petrol</td>\n",
       "      <td>Dealer</td>\n",
       "      <td>Manual</td>\n",
       "      <td>0</td>\n",
       "    </tr>\n",
       "    <tr>\n",
       "      <th>4</th>\n",
       "      <td>swift</td>\n",
       "      <td>2014</td>\n",
       "      <td>4.60</td>\n",
       "      <td>6.87</td>\n",
       "      <td>42450</td>\n",
       "      <td>Diesel</td>\n",
       "      <td>Dealer</td>\n",
       "      <td>Manual</td>\n",
       "      <td>0</td>\n",
       "    </tr>\n",
       "  </tbody>\n",
       "</table>\n",
       "</div>"
      ],
      "text/plain": [
       "  Car_Name  Year  Selling_Price  Present_Price  Driven_kms Fuel_Type  \\\n",
       "0     ritz  2014           3.35           5.59       27000    Petrol   \n",
       "1      sx4  2013           4.75           9.54       43000    Diesel   \n",
       "2     ciaz  2017           7.25           9.85        6900    Petrol   \n",
       "3  wagon r  2011           2.85           4.15        5200    Petrol   \n",
       "4    swift  2014           4.60           6.87       42450    Diesel   \n",
       "\n",
       "  Selling_type Transmission  Owner  \n",
       "0       Dealer       Manual      0  \n",
       "1       Dealer       Manual      0  \n",
       "2       Dealer       Manual      0  \n",
       "3       Dealer       Manual      0  \n",
       "4       Dealer       Manual      0  "
      ]
     },
     "execution_count": 4,
     "metadata": {},
     "output_type": "execute_result"
    }
   ],
   "source": [
    "car_dataset.head()"
   ]
  },
  {
   "cell_type": "code",
   "execution_count": 5,
   "id": "020e03fc",
   "metadata": {
    "execution": {
     "iopub.execute_input": "2023-10-28T09:59:33.415168Z",
     "iopub.status.busy": "2023-10-28T09:59:33.414441Z",
     "iopub.status.idle": "2023-10-28T09:59:33.421069Z",
     "shell.execute_reply": "2023-10-28T09:59:33.420229Z"
    },
    "papermill": {
     "duration": 0.019487,
     "end_time": "2023-10-28T09:59:33.423210",
     "exception": false,
     "start_time": "2023-10-28T09:59:33.403723",
     "status": "completed"
    },
    "tags": []
   },
   "outputs": [
    {
     "data": {
      "text/plain": [
       "(301, 9)"
      ]
     },
     "execution_count": 5,
     "metadata": {},
     "output_type": "execute_result"
    }
   ],
   "source": [
    "car_dataset.shape"
   ]
  },
  {
   "cell_type": "code",
   "execution_count": 6,
   "id": "b0ce051f",
   "metadata": {
    "execution": {
     "iopub.execute_input": "2023-10-28T09:59:33.443781Z",
     "iopub.status.busy": "2023-10-28T09:59:33.443069Z",
     "iopub.status.idle": "2023-10-28T09:59:33.468030Z",
     "shell.execute_reply": "2023-10-28T09:59:33.466736Z"
    },
    "papermill": {
     "duration": 0.037924,
     "end_time": "2023-10-28T09:59:33.470478",
     "exception": false,
     "start_time": "2023-10-28T09:59:33.432554",
     "status": "completed"
    },
    "tags": []
   },
   "outputs": [
    {
     "name": "stdout",
     "output_type": "stream",
     "text": [
      "<class 'pandas.core.frame.DataFrame'>\n",
      "RangeIndex: 301 entries, 0 to 300\n",
      "Data columns (total 9 columns):\n",
      " #   Column         Non-Null Count  Dtype  \n",
      "---  ------         --------------  -----  \n",
      " 0   Car_Name       301 non-null    object \n",
      " 1   Year           301 non-null    int64  \n",
      " 2   Selling_Price  301 non-null    float64\n",
      " 3   Present_Price  301 non-null    float64\n",
      " 4   Driven_kms     301 non-null    int64  \n",
      " 5   Fuel_Type      301 non-null    object \n",
      " 6   Selling_type   301 non-null    object \n",
      " 7   Transmission   301 non-null    object \n",
      " 8   Owner          301 non-null    int64  \n",
      "dtypes: float64(2), int64(3), object(4)\n",
      "memory usage: 21.3+ KB\n"
     ]
    }
   ],
   "source": [
    "car_dataset.info()"
   ]
  },
  {
   "cell_type": "code",
   "execution_count": 7,
   "id": "9e4539bb",
   "metadata": {
    "execution": {
     "iopub.execute_input": "2023-10-28T09:59:33.491315Z",
     "iopub.status.busy": "2023-10-28T09:59:33.490913Z",
     "iopub.status.idle": "2023-10-28T09:59:33.499694Z",
     "shell.execute_reply": "2023-10-28T09:59:33.498648Z"
    },
    "papermill": {
     "duration": 0.022225,
     "end_time": "2023-10-28T09:59:33.502114",
     "exception": false,
     "start_time": "2023-10-28T09:59:33.479889",
     "status": "completed"
    },
    "tags": []
   },
   "outputs": [
    {
     "data": {
      "text/plain": [
       "Car_Name         0\n",
       "Year             0\n",
       "Selling_Price    0\n",
       "Present_Price    0\n",
       "Driven_kms       0\n",
       "Fuel_Type        0\n",
       "Selling_type     0\n",
       "Transmission     0\n",
       "Owner            0\n",
       "dtype: int64"
      ]
     },
     "execution_count": 7,
     "metadata": {},
     "output_type": "execute_result"
    }
   ],
   "source": [
    "car_dataset.isnull().sum()"
   ]
  },
  {
   "cell_type": "code",
   "execution_count": 8,
   "id": "9c02393e",
   "metadata": {
    "execution": {
     "iopub.execute_input": "2023-10-28T09:59:33.524183Z",
     "iopub.status.busy": "2023-10-28T09:59:33.523421Z",
     "iopub.status.idle": "2023-10-28T09:59:33.532648Z",
     "shell.execute_reply": "2023-10-28T09:59:33.531409Z"
    },
    "papermill": {
     "duration": 0.022875,
     "end_time": "2023-10-28T09:59:33.534864",
     "exception": false,
     "start_time": "2023-10-28T09:59:33.511989",
     "status": "completed"
    },
    "tags": []
   },
   "outputs": [
    {
     "name": "stdout",
     "output_type": "stream",
     "text": [
      "Fuel_Type\n",
      "Petrol    239\n",
      "Diesel     60\n",
      "CNG         2\n",
      "Name: count, dtype: int64\n",
      "Selling_type\n",
      "Dealer        195\n",
      "Individual    106\n",
      "Name: count, dtype: int64\n",
      "Transmission\n",
      "Manual       261\n",
      "Automatic     40\n",
      "Name: count, dtype: int64\n"
     ]
    }
   ],
   "source": [
    "print(car_dataset.Fuel_Type.value_counts())\n",
    "print(car_dataset.Selling_type.value_counts())\n",
    "print(car_dataset.Transmission.value_counts())"
   ]
  },
  {
   "cell_type": "code",
   "execution_count": 9,
   "id": "89e79eec",
   "metadata": {
    "execution": {
     "iopub.execute_input": "2023-10-28T09:59:33.556753Z",
     "iopub.status.busy": "2023-10-28T09:59:33.555971Z",
     "iopub.status.idle": "2023-10-28T09:59:33.567103Z",
     "shell.execute_reply": "2023-10-28T09:59:33.566360Z"
    },
    "papermill": {
     "duration": 0.024498,
     "end_time": "2023-10-28T09:59:33.569354",
     "exception": false,
     "start_time": "2023-10-28T09:59:33.544856",
     "status": "completed"
    },
    "tags": []
   },
   "outputs": [],
   "source": [
    "# encoding \"Fuel_Type\" Column\n",
    "car_dataset.replace({'Fuel_Type':{'Petrol':0,'Diesel':1,'CNG':2}},inplace=True)\n",
    "\n",
    "# encoding \"Seller_Type\" Column\n",
    "car_dataset.replace({'Selling_type':{'Dealer':0,'Individual':1}},inplace=True)\n",
    "\n",
    "# encoding \"Transmission\" Column\n",
    "car_dataset.replace({'Transmission':{'Manual':0,'Automatic':1}},inplace=True)"
   ]
  },
  {
   "cell_type": "code",
   "execution_count": 10,
   "id": "8a0f3c17",
   "metadata": {
    "execution": {
     "iopub.execute_input": "2023-10-28T09:59:33.590495Z",
     "iopub.status.busy": "2023-10-28T09:59:33.589815Z",
     "iopub.status.idle": "2023-10-28T09:59:33.603407Z",
     "shell.execute_reply": "2023-10-28T09:59:33.602399Z"
    },
    "papermill": {
     "duration": 0.026525,
     "end_time": "2023-10-28T09:59:33.605510",
     "exception": false,
     "start_time": "2023-10-28T09:59:33.578985",
     "status": "completed"
    },
    "tags": []
   },
   "outputs": [
    {
     "data": {
      "text/html": [
       "<div>\n",
       "<style scoped>\n",
       "    .dataframe tbody tr th:only-of-type {\n",
       "        vertical-align: middle;\n",
       "    }\n",
       "\n",
       "    .dataframe tbody tr th {\n",
       "        vertical-align: top;\n",
       "    }\n",
       "\n",
       "    .dataframe thead th {\n",
       "        text-align: right;\n",
       "    }\n",
       "</style>\n",
       "<table border=\"1\" class=\"dataframe\">\n",
       "  <thead>\n",
       "    <tr style=\"text-align: right;\">\n",
       "      <th></th>\n",
       "      <th>Car_Name</th>\n",
       "      <th>Year</th>\n",
       "      <th>Selling_Price</th>\n",
       "      <th>Present_Price</th>\n",
       "      <th>Driven_kms</th>\n",
       "      <th>Fuel_Type</th>\n",
       "      <th>Selling_type</th>\n",
       "      <th>Transmission</th>\n",
       "      <th>Owner</th>\n",
       "    </tr>\n",
       "  </thead>\n",
       "  <tbody>\n",
       "    <tr>\n",
       "      <th>0</th>\n",
       "      <td>ritz</td>\n",
       "      <td>2014</td>\n",
       "      <td>3.35</td>\n",
       "      <td>5.59</td>\n",
       "      <td>27000</td>\n",
       "      <td>0</td>\n",
       "      <td>0</td>\n",
       "      <td>0</td>\n",
       "      <td>0</td>\n",
       "    </tr>\n",
       "    <tr>\n",
       "      <th>1</th>\n",
       "      <td>sx4</td>\n",
       "      <td>2013</td>\n",
       "      <td>4.75</td>\n",
       "      <td>9.54</td>\n",
       "      <td>43000</td>\n",
       "      <td>1</td>\n",
       "      <td>0</td>\n",
       "      <td>0</td>\n",
       "      <td>0</td>\n",
       "    </tr>\n",
       "    <tr>\n",
       "      <th>2</th>\n",
       "      <td>ciaz</td>\n",
       "      <td>2017</td>\n",
       "      <td>7.25</td>\n",
       "      <td>9.85</td>\n",
       "      <td>6900</td>\n",
       "      <td>0</td>\n",
       "      <td>0</td>\n",
       "      <td>0</td>\n",
       "      <td>0</td>\n",
       "    </tr>\n",
       "    <tr>\n",
       "      <th>3</th>\n",
       "      <td>wagon r</td>\n",
       "      <td>2011</td>\n",
       "      <td>2.85</td>\n",
       "      <td>4.15</td>\n",
       "      <td>5200</td>\n",
       "      <td>0</td>\n",
       "      <td>0</td>\n",
       "      <td>0</td>\n",
       "      <td>0</td>\n",
       "    </tr>\n",
       "    <tr>\n",
       "      <th>4</th>\n",
       "      <td>swift</td>\n",
       "      <td>2014</td>\n",
       "      <td>4.60</td>\n",
       "      <td>6.87</td>\n",
       "      <td>42450</td>\n",
       "      <td>1</td>\n",
       "      <td>0</td>\n",
       "      <td>0</td>\n",
       "      <td>0</td>\n",
       "    </tr>\n",
       "  </tbody>\n",
       "</table>\n",
       "</div>"
      ],
      "text/plain": [
       "  Car_Name  Year  Selling_Price  Present_Price  Driven_kms  Fuel_Type  \\\n",
       "0     ritz  2014           3.35           5.59       27000          0   \n",
       "1      sx4  2013           4.75           9.54       43000          1   \n",
       "2     ciaz  2017           7.25           9.85        6900          0   \n",
       "3  wagon r  2011           2.85           4.15        5200          0   \n",
       "4    swift  2014           4.60           6.87       42450          1   \n",
       "\n",
       "   Selling_type  Transmission  Owner  \n",
       "0             0             0      0  \n",
       "1             0             0      0  \n",
       "2             0             0      0  \n",
       "3             0             0      0  \n",
       "4             0             0      0  "
      ]
     },
     "execution_count": 10,
     "metadata": {},
     "output_type": "execute_result"
    }
   ],
   "source": [
    "car_dataset.head()"
   ]
  },
  {
   "cell_type": "code",
   "execution_count": 11,
   "id": "b8fa7b55",
   "metadata": {
    "execution": {
     "iopub.execute_input": "2023-10-28T09:59:33.628124Z",
     "iopub.status.busy": "2023-10-28T09:59:33.627360Z",
     "iopub.status.idle": "2023-10-28T09:59:33.635976Z",
     "shell.execute_reply": "2023-10-28T09:59:33.635100Z"
    },
    "papermill": {
     "duration": 0.022453,
     "end_time": "2023-10-28T09:59:33.638181",
     "exception": false,
     "start_time": "2023-10-28T09:59:33.615728",
     "status": "completed"
    },
    "tags": []
   },
   "outputs": [],
   "source": [
    "X = car_dataset.drop(['Car_Name','Selling_Price'],axis=1)\n",
    "Y = car_dataset['Selling_Price']"
   ]
  },
  {
   "cell_type": "code",
   "execution_count": 12,
   "id": "18d73e6f",
   "metadata": {
    "execution": {
     "iopub.execute_input": "2023-10-28T09:59:33.661117Z",
     "iopub.status.busy": "2023-10-28T09:59:33.660488Z",
     "iopub.status.idle": "2023-10-28T09:59:33.672037Z",
     "shell.execute_reply": "2023-10-28T09:59:33.670819Z"
    },
    "papermill": {
     "duration": 0.026434,
     "end_time": "2023-10-28T09:59:33.674977",
     "exception": false,
     "start_time": "2023-10-28T09:59:33.648543",
     "status": "completed"
    },
    "tags": []
   },
   "outputs": [
    {
     "name": "stdout",
     "output_type": "stream",
     "text": [
      "     Year  Present_Price  Driven_kms  Fuel_Type  Selling_type  Transmission  \\\n",
      "0    2014           5.59       27000          0             0             0   \n",
      "1    2013           9.54       43000          1             0             0   \n",
      "2    2017           9.85        6900          0             0             0   \n",
      "3    2011           4.15        5200          0             0             0   \n",
      "4    2014           6.87       42450          1             0             0   \n",
      "..    ...            ...         ...        ...           ...           ...   \n",
      "296  2016          11.60       33988          1             0             0   \n",
      "297  2015           5.90       60000          0             0             0   \n",
      "298  2009          11.00       87934          0             0             0   \n",
      "299  2017          12.50        9000          1             0             0   \n",
      "300  2016           5.90        5464          0             0             0   \n",
      "\n",
      "     Owner  \n",
      "0        0  \n",
      "1        0  \n",
      "2        0  \n",
      "3        0  \n",
      "4        0  \n",
      "..     ...  \n",
      "296      0  \n",
      "297      0  \n",
      "298      0  \n",
      "299      0  \n",
      "300      0  \n",
      "\n",
      "[301 rows x 7 columns]\n"
     ]
    }
   ],
   "source": [
    "print(X)"
   ]
  },
  {
   "cell_type": "code",
   "execution_count": 13,
   "id": "5572dc04",
   "metadata": {
    "execution": {
     "iopub.execute_input": "2023-10-28T09:59:33.707991Z",
     "iopub.status.busy": "2023-10-28T09:59:33.707510Z",
     "iopub.status.idle": "2023-10-28T09:59:33.715547Z",
     "shell.execute_reply": "2023-10-28T09:59:33.713895Z"
    },
    "papermill": {
     "duration": 0.027385,
     "end_time": "2023-10-28T09:59:33.717855",
     "exception": false,
     "start_time": "2023-10-28T09:59:33.690470",
     "status": "completed"
    },
    "tags": []
   },
   "outputs": [
    {
     "name": "stdout",
     "output_type": "stream",
     "text": [
      "0       3.35\n",
      "1       4.75\n",
      "2       7.25\n",
      "3       2.85\n",
      "4       4.60\n",
      "       ...  \n",
      "296     9.50\n",
      "297     4.00\n",
      "298     3.35\n",
      "299    11.50\n",
      "300     5.30\n",
      "Name: Selling_Price, Length: 301, dtype: float64\n"
     ]
    }
   ],
   "source": [
    "print(Y)"
   ]
  },
  {
   "cell_type": "code",
   "execution_count": 14,
   "id": "13e3d857",
   "metadata": {
    "execution": {
     "iopub.execute_input": "2023-10-28T09:59:33.741402Z",
     "iopub.status.busy": "2023-10-28T09:59:33.740706Z",
     "iopub.status.idle": "2023-10-28T09:59:33.747606Z",
     "shell.execute_reply": "2023-10-28T09:59:33.746744Z"
    },
    "papermill": {
     "duration": 0.021344,
     "end_time": "2023-10-28T09:59:33.749802",
     "exception": false,
     "start_time": "2023-10-28T09:59:33.728458",
     "status": "completed"
    },
    "tags": []
   },
   "outputs": [],
   "source": [
    "X_train, X_test, Y_train, Y_test = train_test_split(X, Y, test_size = 0.1, random_state=2)"
   ]
  },
  {
   "cell_type": "code",
   "execution_count": 15,
   "id": "a8103197",
   "metadata": {
    "execution": {
     "iopub.execute_input": "2023-10-28T09:59:33.773586Z",
     "iopub.status.busy": "2023-10-28T09:59:33.772589Z",
     "iopub.status.idle": "2023-10-28T09:59:33.777592Z",
     "shell.execute_reply": "2023-10-28T09:59:33.776618Z"
    },
    "papermill": {
     "duration": 0.018977,
     "end_time": "2023-10-28T09:59:33.779636",
     "exception": false,
     "start_time": "2023-10-28T09:59:33.760659",
     "status": "completed"
    },
    "tags": []
   },
   "outputs": [],
   "source": [
    "lin_reg_model = LinearRegression()"
   ]
  },
  {
   "cell_type": "code",
   "execution_count": 16,
   "id": "08aaf68f",
   "metadata": {
    "execution": {
     "iopub.execute_input": "2023-10-28T09:59:33.802695Z",
     "iopub.status.busy": "2023-10-28T09:59:33.802271Z",
     "iopub.status.idle": "2023-10-28T09:59:33.831703Z",
     "shell.execute_reply": "2023-10-28T09:59:33.831047Z"
    },
    "papermill": {
     "duration": 0.043801,
     "end_time": "2023-10-28T09:59:33.833957",
     "exception": false,
     "start_time": "2023-10-28T09:59:33.790156",
     "status": "completed"
    },
    "tags": []
   },
   "outputs": [
    {
     "data": {
      "text/html": [
       "<style>#sk-container-id-1 {color: black;background-color: white;}#sk-container-id-1 pre{padding: 0;}#sk-container-id-1 div.sk-toggleable {background-color: white;}#sk-container-id-1 label.sk-toggleable__label {cursor: pointer;display: block;width: 100%;margin-bottom: 0;padding: 0.3em;box-sizing: border-box;text-align: center;}#sk-container-id-1 label.sk-toggleable__label-arrow:before {content: \"▸\";float: left;margin-right: 0.25em;color: #696969;}#sk-container-id-1 label.sk-toggleable__label-arrow:hover:before {color: black;}#sk-container-id-1 div.sk-estimator:hover label.sk-toggleable__label-arrow:before {color: black;}#sk-container-id-1 div.sk-toggleable__content {max-height: 0;max-width: 0;overflow: hidden;text-align: left;background-color: #f0f8ff;}#sk-container-id-1 div.sk-toggleable__content pre {margin: 0.2em;color: black;border-radius: 0.25em;background-color: #f0f8ff;}#sk-container-id-1 input.sk-toggleable__control:checked~div.sk-toggleable__content {max-height: 200px;max-width: 100%;overflow: auto;}#sk-container-id-1 input.sk-toggleable__control:checked~label.sk-toggleable__label-arrow:before {content: \"▾\";}#sk-container-id-1 div.sk-estimator input.sk-toggleable__control:checked~label.sk-toggleable__label {background-color: #d4ebff;}#sk-container-id-1 div.sk-label input.sk-toggleable__control:checked~label.sk-toggleable__label {background-color: #d4ebff;}#sk-container-id-1 input.sk-hidden--visually {border: 0;clip: rect(1px 1px 1px 1px);clip: rect(1px, 1px, 1px, 1px);height: 1px;margin: -1px;overflow: hidden;padding: 0;position: absolute;width: 1px;}#sk-container-id-1 div.sk-estimator {font-family: monospace;background-color: #f0f8ff;border: 1px dotted black;border-radius: 0.25em;box-sizing: border-box;margin-bottom: 0.5em;}#sk-container-id-1 div.sk-estimator:hover {background-color: #d4ebff;}#sk-container-id-1 div.sk-parallel-item::after {content: \"\";width: 100%;border-bottom: 1px solid gray;flex-grow: 1;}#sk-container-id-1 div.sk-label:hover label.sk-toggleable__label {background-color: #d4ebff;}#sk-container-id-1 div.sk-serial::before {content: \"\";position: absolute;border-left: 1px solid gray;box-sizing: border-box;top: 0;bottom: 0;left: 50%;z-index: 0;}#sk-container-id-1 div.sk-serial {display: flex;flex-direction: column;align-items: center;background-color: white;padding-right: 0.2em;padding-left: 0.2em;position: relative;}#sk-container-id-1 div.sk-item {position: relative;z-index: 1;}#sk-container-id-1 div.sk-parallel {display: flex;align-items: stretch;justify-content: center;background-color: white;position: relative;}#sk-container-id-1 div.sk-item::before, #sk-container-id-1 div.sk-parallel-item::before {content: \"\";position: absolute;border-left: 1px solid gray;box-sizing: border-box;top: 0;bottom: 0;left: 50%;z-index: -1;}#sk-container-id-1 div.sk-parallel-item {display: flex;flex-direction: column;z-index: 1;position: relative;background-color: white;}#sk-container-id-1 div.sk-parallel-item:first-child::after {align-self: flex-end;width: 50%;}#sk-container-id-1 div.sk-parallel-item:last-child::after {align-self: flex-start;width: 50%;}#sk-container-id-1 div.sk-parallel-item:only-child::after {width: 0;}#sk-container-id-1 div.sk-dashed-wrapped {border: 1px dashed gray;margin: 0 0.4em 0.5em 0.4em;box-sizing: border-box;padding-bottom: 0.4em;background-color: white;}#sk-container-id-1 div.sk-label label {font-family: monospace;font-weight: bold;display: inline-block;line-height: 1.2em;}#sk-container-id-1 div.sk-label-container {text-align: center;}#sk-container-id-1 div.sk-container {/* jupyter's `normalize.less` sets `[hidden] { display: none; }` but bootstrap.min.css set `[hidden] { display: none !important; }` so we also need the `!important` here to be able to override the default hidden behavior on the sphinx rendered scikit-learn.org. See: https://github.com/scikit-learn/scikit-learn/issues/21755 */display: inline-block !important;position: relative;}#sk-container-id-1 div.sk-text-repr-fallback {display: none;}</style><div id=\"sk-container-id-1\" class=\"sk-top-container\"><div class=\"sk-text-repr-fallback\"><pre>LinearRegression()</pre><b>In a Jupyter environment, please rerun this cell to show the HTML representation or trust the notebook. <br />On GitHub, the HTML representation is unable to render, please try loading this page with nbviewer.org.</b></div><div class=\"sk-container\" hidden><div class=\"sk-item\"><div class=\"sk-estimator sk-toggleable\"><input class=\"sk-toggleable__control sk-hidden--visually\" id=\"sk-estimator-id-1\" type=\"checkbox\" checked><label for=\"sk-estimator-id-1\" class=\"sk-toggleable__label sk-toggleable__label-arrow\">LinearRegression</label><div class=\"sk-toggleable__content\"><pre>LinearRegression()</pre></div></div></div></div></div>"
      ],
      "text/plain": [
       "LinearRegression()"
      ]
     },
     "execution_count": 16,
     "metadata": {},
     "output_type": "execute_result"
    }
   ],
   "source": [
    "lin_reg_model.fit(X_train,Y_train)"
   ]
  },
  {
   "cell_type": "code",
   "execution_count": 17,
   "id": "aadcb83b",
   "metadata": {
    "execution": {
     "iopub.execute_input": "2023-10-28T09:59:33.856519Z",
     "iopub.status.busy": "2023-10-28T09:59:33.856122Z",
     "iopub.status.idle": "2023-10-28T09:59:33.862122Z",
     "shell.execute_reply": "2023-10-28T09:59:33.861391Z"
    },
    "papermill": {
     "duration": 0.019609,
     "end_time": "2023-10-28T09:59:33.864302",
     "exception": false,
     "start_time": "2023-10-28T09:59:33.844693",
     "status": "completed"
    },
    "tags": []
   },
   "outputs": [],
   "source": [
    "training_data_prediction = lin_reg_model.predict(X_train)"
   ]
  },
  {
   "cell_type": "code",
   "execution_count": 18,
   "id": "3218e4bf",
   "metadata": {
    "execution": {
     "iopub.execute_input": "2023-10-28T09:59:33.886489Z",
     "iopub.status.busy": "2023-10-28T09:59:33.886116Z",
     "iopub.status.idle": "2023-10-28T09:59:33.892173Z",
     "shell.execute_reply": "2023-10-28T09:59:33.891017Z"
    },
    "papermill": {
     "duration": 0.020083,
     "end_time": "2023-10-28T09:59:33.894832",
     "exception": false,
     "start_time": "2023-10-28T09:59:33.874749",
     "status": "completed"
    },
    "tags": []
   },
   "outputs": [
    {
     "name": "stdout",
     "output_type": "stream",
     "text": [
      "R squared Error :  0.8796483009370215\n"
     ]
    }
   ],
   "source": [
    "error_score = metrics.r2_score(Y_train, training_data_prediction)\n",
    "print(\"R squared Error : \", error_score)"
   ]
  },
  {
   "cell_type": "code",
   "execution_count": 19,
   "id": "230e5bc9",
   "metadata": {
    "execution": {
     "iopub.execute_input": "2023-10-28T09:59:33.917559Z",
     "iopub.status.busy": "2023-10-28T09:59:33.916947Z",
     "iopub.status.idle": "2023-10-28T09:59:34.232257Z",
     "shell.execute_reply": "2023-10-28T09:59:34.231284Z"
    },
    "papermill": {
     "duration": 0.330139,
     "end_time": "2023-10-28T09:59:34.235392",
     "exception": false,
     "start_time": "2023-10-28T09:59:33.905253",
     "status": "completed"
    },
    "tags": []
   },
   "outputs": [
    {
     "data": {
      "image/png": "[encoded data removed]",
      "text/plain": [
       "<Figure size 640x480 with 1 Axes>"
      ]
     },
     "metadata": {},
     "output_type": "display_data"
    }
   ],
   "source": [
    "plt.scatter(Y_train, training_data_prediction)\n",
    "plt.xlabel(\"Actual Price\")\n",
    "plt.ylabel(\"Predicted Price\")\n",
    "plt.title(\" Actual Prices vs Predicted Prices\")\n",
    "plt.show()"
   ]
  },
  {
   "cell_type": "code",
   "execution_count": 20,
   "id": "0b96bdf1",
   "metadata": {
    "execution": {
     "iopub.execute_input": "2023-10-28T09:59:34.259081Z",
     "iopub.status.busy": "2023-10-28T09:59:34.258718Z",
     "iopub.status.idle": "2023-10-28T09:59:34.263366Z",
     "shell.execute_reply": "2023-10-28T09:59:34.262236Z"
    },
    "papermill": {
     "duration": 0.019094,
     "end_time": "2023-10-28T09:59:34.265670",
     "exception": false,
     "start_time": "2023-10-28T09:59:34.246576",
     "status": "completed"
    },
    "tags": []
   },
   "outputs": [],
   "source": [
    "lass_reg_model = Lasso()"
   ]
  },
  {
   "cell_type": "code",
   "execution_count": 21,
   "id": "8415f53c",
   "metadata": {
    "execution": {
     "iopub.execute_input": "2023-10-28T09:59:34.288810Z",
     "iopub.status.busy": "2023-10-28T09:59:34.288479Z",
     "iopub.status.idle": "2023-10-28T09:59:34.302118Z",
     "shell.execute_reply": "2023-10-28T09:59:34.301119Z"
    },
    "papermill": {
     "duration": 0.027482,
     "end_time": "2023-10-28T09:59:34.304200",
     "exception": false,
     "start_time": "2023-10-28T09:59:34.276718",
     "status": "completed"
    },
    "tags": []
   },
   "outputs": [
    {
     "data": {
      "text/html": [
       "<style>#sk-container-id-2 {color: black;background-color: white;}#sk-container-id-2 pre{padding: 0;}#sk-container-id-2 div.sk-toggleable {background-color: white;}#sk-container-id-2 label.sk-toggleable__label {cursor: pointer;display: block;width: 100%;margin-bottom: 0;padding: 0.3em;box-sizing: border-box;text-align: center;}#sk-container-id-2 label.sk-toggleable__label-arrow:before {content: \"▸\";float: left;margin-right: 0.25em;color: #696969;}#sk-container-id-2 label.sk-toggleable__label-arrow:hover:before {color: black;}#sk-container-id-2 div.sk-estimator:hover label.sk-toggleable__label-arrow:before {color: black;}#sk-container-id-2 div.sk-toggleable__content {max-height: 0;max-width: 0;overflow: hidden;text-align: left;background-color: #f0f8ff;}#sk-container-id-2 div.sk-toggleable__content pre {margin: 0.2em;color: black;border-radius: 0.25em;background-color: #f0f8ff;}#sk-container-id-2 input.sk-toggleable__control:checked~div.sk-toggleable__content {max-height: 200px;max-width: 100%;overflow: auto;}#sk-container-id-2 input.sk-toggleable__control:checked~label.sk-toggleable__label-arrow:before {content: \"▾\";}#sk-container-id-2 div.sk-estimator input.sk-toggleable__control:checked~label.sk-toggleable__label {background-color: #d4ebff;}#sk-container-id-2 div.sk-label input.sk-toggleable__control:checked~label.sk-toggleable__label {background-color: #d4ebff;}#sk-container-id-2 input.sk-hidden--visually {border: 0;clip: rect(1px 1px 1px 1px);clip: rect(1px, 1px, 1px, 1px);height: 1px;margin: -1px;overflow: hidden;padding: 0;position: absolute;width: 1px;}#sk-container-id-2 div.sk-estimator {font-family: monospace;background-color: #f0f8ff;border: 1px dotted black;border-radius: 0.25em;box-sizing: border-box;margin-bottom: 0.5em;}#sk-container-id-2 div.sk-estimator:hover {background-color: #d4ebff;}#sk-container-id-2 div.sk-parallel-item::after {content: \"\";width: 100%;border-bottom: 1px solid gray;flex-grow: 1;}#sk-container-id-2 div.sk-label:hover label.sk-toggleable__label {background-color: #d4ebff;}#sk-container-id-2 div.sk-serial::before {content: \"\";position: absolute;border-left: 1px solid gray;box-sizing: border-box;top: 0;bottom: 0;left: 50%;z-index: 0;}#sk-container-id-2 div.sk-serial {display: flex;flex-direction: column;align-items: center;background-color: white;padding-right: 0.2em;padding-left: 0.2em;position: relative;}#sk-container-id-2 div.sk-item {position: relative;z-index: 1;}#sk-container-id-2 div.sk-parallel {display: flex;align-items: stretch;justify-content: center;background-color: white;position: relative;}#sk-container-id-2 div.sk-item::before, #sk-container-id-2 div.sk-parallel-item::before {content: \"\";position: absolute;border-left: 1px solid gray;box-sizing: border-box;top: 0;bottom: 0;left: 50%;z-index: -1;}#sk-container-id-2 div.sk-parallel-item {display: flex;flex-direction: column;z-index: 1;position: relative;background-color: white;}#sk-container-id-2 div.sk-parallel-item:first-child::after {align-self: flex-end;width: 50%;}#sk-container-id-2 div.sk-parallel-item:last-child::after {align-self: flex-start;width: 50%;}#sk-container-id-2 div.sk-parallel-item:only-child::after {width: 0;}#sk-container-id-2 div.sk-dashed-wrapped {border: 1px dashed gray;margin: 0 0.4em 0.5em 0.4em;box-sizing: border-box;padding-bottom: 0.4em;background-color: white;}#sk-container-id-2 div.sk-label label {font-family: monospace;font-weight: bold;display: inline-block;line-height: 1.2em;}#sk-container-id-2 div.sk-label-container {text-align: center;}#sk-container-id-2 div.sk-container {/* jupyter's `normalize.less` sets `[hidden] { display: none; }` but bootstrap.min.css set `[hidden] { display: none !important; }` so we also need the `!important` here to be able to override the default hidden behavior on the sphinx rendered scikit-learn.org. See: https://github.com/scikit-learn/scikit-learn/issues/21755 */display: inline-block !important;position: relative;}#sk-container-id-2 div.sk-text-repr-fallback {display: none;}</style><div id=\"sk-container-id-2\" class=\"sk-top-container\"><div class=\"sk-text-repr-fallback\"><pre>Lasso()</pre><b>In a Jupyter environment, please rerun this cell to show the HTML representation or trust the notebook. <br />On GitHub, the HTML representation is unable to render, please try loading this page with nbviewer.org.</b></div><div class=\"sk-container\" hidden><div class=\"sk-item\"><div class=\"sk-estimator sk-toggleable\"><input class=\"sk-toggleable__control sk-hidden--visually\" id=\"sk-estimator-id-2\" type=\"checkbox\" checked><label for=\"sk-estimator-id-2\" class=\"sk-toggleable__label sk-toggleable__label-arrow\">Lasso</label><div class=\"sk-toggleable__content\"><pre>Lasso()</pre></div></div></div></div></div>"
      ],
      "text/plain": [
       "Lasso()"
      ]
     },
     "execution_count": 21,
     "metadata": {},
     "output_type": "execute_result"
    }
   ],
   "source": [
    "lass_reg_model.fit(X_train,Y_train)"
   ]
  },
  {
   "cell_type": "code",
   "execution_count": 22,
   "id": "bc144894",
   "metadata": {
    "execution": {
     "iopub.execute_input": "2023-10-28T09:59:34.328264Z",
     "iopub.status.busy": "2023-10-28T09:59:34.327597Z",
     "iopub.status.idle": "2023-10-28T09:59:34.333538Z",
     "shell.execute_reply": "2023-10-28T09:59:34.332802Z"
    },
    "papermill": {
     "duration": 0.020075,
     "end_time": "2023-10-28T09:59:34.335501",
     "exception": false,
     "start_time": "2023-10-28T09:59:34.315426",
     "status": "completed"
    },
    "tags": []
   },
   "outputs": [],
   "source": [
    "training_data_prediction = lass_reg_model.predict(X_train)"
   ]
  },
  {
   "cell_type": "code",
   "execution_count": 23,
   "id": "263ae3a4",
   "metadata": {
    "execution": {
     "iopub.execute_input": "2023-10-28T09:59:34.359946Z",
     "iopub.status.busy": "2023-10-28T09:59:34.359254Z",
     "iopub.status.idle": "2023-10-28T09:59:34.365156Z",
     "shell.execute_reply": "2023-10-28T09:59:34.364271Z"
    },
    "papermill": {
     "duration": 0.020485,
     "end_time": "2023-10-28T09:59:34.367095",
     "exception": false,
     "start_time": "2023-10-28T09:59:34.346610",
     "status": "completed"
    },
    "tags": []
   },
   "outputs": [
    {
     "name": "stdout",
     "output_type": "stream",
     "text": [
      "R squared Error :  0.8424480718240743\n"
     ]
    }
   ],
   "source": [
    "error_score = metrics.r2_score(Y_train, training_data_prediction)\n",
    "print(\"R squared Error : \", error_score)"
   ]
  },
  {
   "cell_type": "code",
   "execution_count": 24,
   "id": "fa2ceaa6",
   "metadata": {
    "execution": {
     "iopub.execute_input": "2023-10-28T09:59:34.391727Z",
     "iopub.status.busy": "2023-10-28T09:59:34.391126Z",
     "iopub.status.idle": "2023-10-28T09:59:34.669313Z",
     "shell.execute_reply": "2023-10-28T09:59:34.668333Z"
    },
    "papermill": {
     "duration": 0.293061,
     "end_time": "2023-10-28T09:59:34.671673",
     "exception": false,
     "start_time": "2023-10-28T09:59:34.378612",
     "status": "completed"
    },
    "tags": []
   },
   "outputs": [
    {
     "data": {
      "image/png": "[encoded data removed]",
      "text/plain": [
       "<Figure size 640x480 with 1 Axes>"
      ]
     },
     "metadata": {},
     "output_type": "display_data"
    }
   ],
   "source": [
    "plt.scatter(Y_train, training_data_prediction)\n",
    "plt.xlabel(\"Actual Price\")\n",
    "plt.ylabel(\"Predicted Price\")\n",
    "plt.title(\" Actual Prices vs Predicted Prices\")\n",
    "plt.show()"
   ]
  },
  {
   "cell_type": "code",
   "execution_count": 25,
   "id": "9f8af990",
   "metadata": {
    "execution": {
     "iopub.execute_input": "2023-10-28T09:59:34.695906Z",
     "iopub.status.busy": "2023-10-28T09:59:34.695545Z",
     "iopub.status.idle": "2023-10-28T09:59:34.702685Z",
     "shell.execute_reply": "2023-10-28T09:59:34.701419Z"
    },
    "papermill": {
     "duration": 0.021629,
     "end_time": "2023-10-28T09:59:34.704745",
     "exception": false,
     "start_time": "2023-10-28T09:59:34.683116",
     "status": "completed"
    },
    "tags": []
   },
   "outputs": [],
   "source": [
    "test_data_prediction = lass_reg_model.predict(X_test)"
   ]
  },
  {
   "cell_type": "code",
   "execution_count": 26,
   "id": "bb644a68",
   "metadata": {
    "execution": {
     "iopub.execute_input": "2023-10-28T09:59:34.730271Z",
     "iopub.status.busy": "2023-10-28T09:59:34.729318Z",
     "iopub.status.idle": "2023-10-28T09:59:34.736241Z",
     "shell.execute_reply": "2023-10-28T09:59:34.734915Z"
    },
    "papermill": {
     "duration": 0.022077,
     "end_time": "2023-10-28T09:59:34.738461",
     "exception": false,
     "start_time": "2023-10-28T09:59:34.716384",
     "status": "completed"
    },
    "tags": []
   },
   "outputs": [
    {
     "name": "stdout",
     "output_type": "stream",
     "text": [
      "R squared Error :  0.8709763132343395\n"
     ]
    }
   ],
   "source": [
    "error_score = metrics.r2_score(Y_test, test_data_prediction)\n",
    "print(\"R squared Error : \", error_score)"
   ]
  },
  {
   "cell_type": "code",
   "execution_count": 27,
   "id": "99887b6c",
   "metadata": {
    "execution": {
     "iopub.execute_input": "2023-10-28T09:59:34.764228Z",
     "iopub.status.busy": "2023-10-28T09:59:34.763794Z",
     "iopub.status.idle": "2023-10-28T09:59:35.043768Z",
     "shell.execute_reply": "2023-10-28T09:59:35.042869Z"
    },
    "papermill": {
     "duration": 0.296236,
     "end_time": "2023-10-28T09:59:35.046746",
     "exception": false,
     "start_time": "2023-10-28T09:59:34.750510",
     "status": "completed"
    },
    "tags": []
   },
   "outputs": [
    {
     "data": {
      "image/png": "[encoded data removed]",
      "text/plain": [
       "<Figure size 640x480 with 1 Axes>"
      ]
     },
     "metadata": {},
     "output_type": "display_data"
    }
   ],
   "source": [
    "plt.scatter(Y_test, test_data_prediction)\n",
    "plt.xlabel(\"Actual Price\")\n",
    "plt.ylabel(\"Predicted Price\")\n",
    "plt.title(\" Actual Prices vs Predicted Prices\")\n",
    "plt.show()"
   ]
  },
  {
   "cell_type": "code",
   "execution_count": null,
   "id": "b8c35566",
   "metadata": {
    "papermill": {
     "duration": 0.011842,
     "end_time": "2023-10-28T09:59:35.071251",
     "exception": false,
     "start_time": "2023-10-28T09:59:35.059409",
     "status": "completed"
    },
    "tags": []
   },
   "outputs": [],
   "source": []
  }
 ],
 "metadata": {
  "kernelspec": {
   "display_name": "Python 3",
   "language": "python",
   "name": "python3"
  },
  "language_info": {
   "codemirror_mode": {
    "name": "ipython",
    "version": 3
   },
   "file_extension": ".py",
   "mimetype": "text/x-python",
   "name": "python",
   "nbconvert_exporter": "python",
   "pygments_lexer": "ipython3",
   "version": "3.10.12"
  },
  "papermill": {
   "default_parameters": {},
   "duration": 7.685569,
   "end_time": "2023-10-28T09:59:35.502170",
   "environment_variables": {},
   "exception": null,
   "input_path": "__notebook__.ipynb",
   "output_path": "__notebook__.ipynb",
   "parameters": {},
   "start_time": "2023-10-28T09:59:27.816601",
   "version": "2.4.0"
  }
 },
 "nbformat": 4,
 "nbformat_minor": 5
}
